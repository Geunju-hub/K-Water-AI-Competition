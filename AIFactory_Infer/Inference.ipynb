{
 "cells": [
  {
   "cell_type": "markdown",
   "metadata": {},
   "source": [
    "## 현재 Directory: /AIFactory_Infer/"
   ]
  },
  {
   "cell_type": "markdown",
   "metadata": {},
   "source": [
    "## 최종 폴더 구성"
   ]
  },
  {
   "cell_type": "code",
   "execution_count": null,
   "metadata": {},
   "outputs": [],
   "source": [
    "'''\n",
    "├─2023_AI_Competition -> 동영상 데이터 폴더\n",
    "├─datasets -> 학습 데이터 폴더\n",
    "│  ├─additional_data\n",
    "│  ├─full\n",
    "│  ├─labels\n",
    "│  ├─test\n",
    "│  ├─train\n",
    "│  │  ├─images\n",
    "│  │  └─labels\n",
    "│  └─valid\n",
    "│      ├─images\n",
    "│      └─labels\n",
    "└─ultralytics\n",
    "    ├─runs\n",
    "    │  ├─base\n",
    "    │  │  └─weights -> 기존 데이터로 학습한 가중치\n",
    "    │  └─base2\n",
    "    │      └─weights -> 추가데이터 + 기존데이터로 학습한 가중치\n",
    "    ├─tests\n",
    "    └─ultralytics\n",
    "        ├─assets\n",
    "        ├─cfg\n",
    "        │  ├─.ipynb_checkpoints\n",
    "        │  ├─datasets\n",
    "        │  │  └─.ipynb_checkpoints\n",
    "        │  ├─models\n",
    "        │  │  ├─rt-detr\n",
    "        │  │  │  └─.ipynb_checkpoints\n",
    "        │  │  ├─v3\n",
    "        │  │  ├─v5\n",
    "        │  │  ├─v6\n",
    "        │  │  └─v8\n",
    "        │  ├─trackers\n",
    "        │  │  └─.ipynb_checkpoints\n",
    "        │  └─__pycache__\n",
    "        ├─data\n",
    "        ├─engine\n",
    "        ├─hub\n",
    "        ├─models\n",
    "        │  ├─yolo\n",
    "        │  │  ├─.ipynb_checkpoints\n",
    "        │  │  ├─classify\n",
    "        │  │  │  └─__pycache__\n",
    "        │  │  ├─detect\n",
    "        │  │  │  ├─.ipynb_checkpoints\n",
    "        │  │  │  └─__pycache__\n",
    "        │  │  ├─pose\n",
    "        │  │  │  └─__pycache__\n",
    "        │  │  ├─segment\n",
    "        │  │  │  └─__pycache__\n",
    "        │  │  └─__pycache__\n",
    "        │  └─__pycache__\n",
    "        ├─nn\n",
    "        ├─trackers\n",
    "        └─utils\n",
    "'''"
   ]
  },
  {
   "cell_type": "markdown",
   "metadata": {},
   "source": [
    "### 기본환경 설정 및 라이브러리 설치 <<SEED=42>>\n",
    "### colab 환경에서 실행시 conda 명령어는 제외하고 실행하면 됨"
   ]
  },
  {
   "cell_type": "code",
   "execution_count": null,
   "metadata": {},
   "outputs": [
    {
     "name": "stdout",
     "output_type": "stream",
     "text": [
      "Requirement already satisfied: tqdm in /usr/local/lib/python3.9/dist-packages (4.64.1)\n",
      "\u001b[33mWARNING: Running pip as the 'root' user can result in broken permissions and conflicting behaviour with the system package manager. It is recommended to use a virtual environment instead: https://pip.pypa.io/warnings/venv\u001b[0m\u001b[33m\n",
      "\u001b[0mRequirement already satisfied: opencv-python in /usr/local/lib/python3.9/dist-packages (4.6.0.66)\n",
      "Requirement already satisfied: numpy>=1.19.3 in /usr/local/lib/python3.9/dist-packages (from opencv-python) (1.23.4)\n",
      "\u001b[33mWARNING: Running pip as the 'root' user can result in broken permissions and conflicting behaviour with the system package manager. It is recommended to use a virtual environment instead: https://pip.pypa.io/warnings/venv\u001b[0m\u001b[33m\n",
      "\u001b[0m"
     ]
    }
   ],
   "source": [
    "# !conda create -n AIFactory python=3.9.16\n",
    "# !conda activate AIFactory\n",
    "!pip3 install tqdm\n",
    "!pip3 install opencv-python\n",
    "!pip3 install ttach"
   ]
  },
  {
   "cell_type": "markdown",
   "metadata": {},
   "source": [
    "### Original DATASET 다운로드 : AIFactory_Infer 안에 주최측에서 제공해준 데이터셋(dataset.zip, 2023_AI_Competition.egg)이 압축해제된 상태로 넣어둔 상황이라고 가정."
   ]
  },
  {
   "cell_type": "markdown",
   "metadata": {},
   "source": [
    "### datasets폴더 생성"
   ]
  },
  {
   "cell_type": "code",
   "execution_count": null,
   "metadata": {},
   "outputs": [],
   "source": [
    "!mkdir datasets"
   ]
  },
  {
   "cell_type": "markdown",
   "metadata": {},
   "source": [
    "### train test 폴더 모두 datasets 폴더 안으로 이동시키기"
   ]
  },
  {
   "cell_type": "code",
   "execution_count": null,
   "metadata": {},
   "outputs": [],
   "source": [
    "%mv  './train' './datasets/'\n",
    "%mv  './test' './datasets/'\n",
    "%mv  './labels' './datasets/'"
   ]
  },
  {
   "cell_type": "markdown",
   "metadata": {},
   "source": [
    "### train 폴더를 full 폴더로 이동"
   ]
  },
  {
   "cell_type": "code",
   "execution_count": null,
   "metadata": {},
   "outputs": [],
   "source": [
    "%mv './datasets/train' './datasets/full'"
   ]
  },
  {
   "cell_type": "markdown",
   "metadata": {},
   "source": [
    "### 여기까지 디렉토리 상황"
   ]
  },
  {
   "cell_type": "code",
   "execution_count": null,
   "metadata": {},
   "outputs": [],
   "source": [
    "'''\n",
    "├─2023_AI_Competition -> 동영상 데이터 폴더\n",
    "├─datasets -> 학습 데이터 폴더\n",
    "│  ├─full\n",
    "│  ├─labels\n",
    "│  ├─test\n",
    "'''"
   ]
  },
  {
   "cell_type": "markdown",
   "metadata": {},
   "source": [
    "### 데이터셋 Yolo 형식으로 구성 및 Train & Valid Split과 동영상 데이터 이미지 변환"
   ]
  },
  {
   "cell_type": "code",
   "execution_count": null,
   "metadata": {},
   "outputs": [],
   "source": [
    "!python coco2yolo.py\n",
    "!python train_valid_split.py\n",
    "!python save_video.py"
   ]
  },
  {
   "cell_type": "markdown",
   "metadata": {},
   "source": [
    "### 여기까지 디렉토리 상황"
   ]
  },
  {
   "cell_type": "code",
   "execution_count": null,
   "metadata": {},
   "outputs": [],
   "source": [
    "'''\n",
    "├─2023_AI_Competition -> 동영상 데이터 폴더\n",
    "├─datasets -> 학습 데이터 폴더\n",
    "│  ├─additional_data\n",
    "│  ├─full\n",
    "│  ├─labels\n",
    "│  ├─test\n",
    "│  ├─train\n",
    "│  │  ├─images\n",
    "│  │  └─labels\n",
    "│  └─valid\n",
    "│      ├─images\n",
    "│      └─labels\n",
    "'''"
   ]
  },
  {
   "cell_type": "markdown",
   "metadata": {},
   "source": [
    "### Custom Yolo를 사용하기 위해 코드 다운로드"
   ]
  },
  {
   "cell_type": "code",
   "execution_count": null,
   "metadata": {},
   "outputs": [],
   "source": [
    "%cd ultralytics_infer\n",
    "!git clone https://github.com/rigvedrs/YOLO-V8-CAM.git\n",
    "!pip3 install -r requirements.txt"
   ]
  },
  {
   "cell_type": "markdown",
   "metadata": {},
   "source": [
    "# 1. 학습 없이 추론만 진행하고 싶은 경우\n",
    "- [학습한 모델로 추가 데이터 Inference 진행] 실행\n",
    "- [추가데이터 Train에 추가하기] 실행\n",
    "- [최종 Inference 진행] 실행\n",
    "- [Inference한 json파일 COCO 형태로 변환] 실행\n",
    "- 최종 결과 [Final_prediction.json] 파일 생성"
   ]
  },
  {
   "cell_type": "markdown",
   "metadata": {},
   "source": [
    "train / val / inference 모두 cache = True 옵션을 사용하는데, cache = True 옵션은 이미지를 미리 ram에 올려놓는 것을 의미함\\\n",
    "따라서, 30GB의 충분한 디스크 용량이 있다면 cache = True를 적용해주고\n",
    "디스크 용량이 충분하지 않다면, cache = False / Batch size 변경도 필요함"
   ]
  },
  {
   "cell_type": "markdown",
   "metadata": {},
   "source": [
    "### 최종 Inference 진행"
   ]
  },
  {
   "cell_type": "code",
   "execution_count": null,
   "metadata": {},
   "outputs": [],
   "source": [
    "!python test_find_fish.py"
   ]
  },
  {
   "cell_type": "markdown",
   "metadata": {},
   "source": [
    "### Inference한 json파일 COCO 형태로 변환"
   ]
  },
  {
   "cell_type": "code",
   "execution_count": null,
   "metadata": {},
   "outputs": [],
   "source": [
    "%cd ..\n",
    "!python results_to_coco.py"
   ]
  }
 ],
 "metadata": {
  "language_info": {
   "name": "python"
  }
 },
 "nbformat": 4,
 "nbformat_minor": 2
}
